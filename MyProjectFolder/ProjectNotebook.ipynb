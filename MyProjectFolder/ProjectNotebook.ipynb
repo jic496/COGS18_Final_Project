{
 "cells": [
  {
   "cell_type": "markdown",
   "metadata": {},
   "source": [
    "# Final Project: File Management System"
   ]
  },
  {
   "cell_type": "markdown",
   "metadata": {},
   "source": [
    "## Object:\n",
    "\n",
    "The object of this project is to simulate some functions of a in-memory file system to manage the directories and files. The functions include: \n",
    "- ls: Given a path in string format. If it is a file path, return a list that only contains this file's name. If it is a directory path, return the list of file and directory names in this directory. The output (file and directory names together) should in lexicographic order.\n",
    "- mkdir: Given a directory path that does not exist, you should make a new directory according to the path. If the middle directories in the path don't exist either, you should create them as well. This function has void return type.\n",
    "- addContentToFile: Given a file path and file content in string format. If the file doesn't exist, user need to create that file containing given content. If the file already exists, user need to append given content to original content. This function has void return type.\n",
    "- readContentFromFile: Given a file path, return its content in string format.\n",
    "\n",
    "## Approach:\n",
    "High level analysis:\n",
    "Actually the file management system is a tree structure, more specifically, we can use tree nodes to represent both file and directory. To implement this system, I plan to create two classes: \"File\" and \"FileSystem\". For class \"File\", there should be three fields: files(dict), children (dict: key: string of contenet, value File), isFile(boolean). If isFile is true: content represent the content of file, children has no effect; otherwise, children represent the subfiles or subdirectory. To implement these functions, the high level idea are: \n",
    "- ls -> search path\n",
    "- mkdir -> insert tree node\n",
    "- addContentToFile -> insert words\n",
    "- readContentFrom File -> search words"
   ]
  },
  {
   "cell_type": "markdown",
   "metadata": {},
   "source": [
    "## Project Code\n",
    "\n",
    "If it makes sense for your project, you can have code and outputs here in the notebook as well."
   ]
  },
  {
   "cell_type": "code",
   "execution_count": 1,
   "metadata": {},
   "outputs": [],
   "source": [
    "from my_module.functions import File, FileSystem\n",
    "from my_module.test_functions import test_ls, test_read_content"
   ]
  },
  {
   "cell_type": "code",
   "execution_count": 2,
   "metadata": {},
   "outputs": [],
   "source": [
    "# Test functions\n",
    "test_ls()\n",
    "test_read_content()"
   ]
  },
  {
   "cell_type": "code",
   "execution_count": 4,
   "metadata": {},
   "outputs": [
    {
     "name": "stdout",
     "output_type": "stream",
     "text": [
      "The list of directories and file under current directory is: []\n",
      "<----------Make two new directories: d1 and d2 under current director---------->\n",
      "The list of directories and file under current directory is:['d1', 'd2']\n",
      "<----------Make three new directories d1_1, d1_2 and d1_3 under d1---------->\n",
      "The list of directories and file under d1 is:['d1_1', 'd1_2', 'd1_3']\n",
      "<----------Make a new file f1 under d1_2---------->\n",
      "The list of directories and file under d1_1 is:['d1_1_1']\n",
      "The list of directories and file under d1_1_1 is:['f3']\n",
      "<----------Add new content to f1---------->\n",
      "<----------Read content from file f1---------->\n",
      "The content read from f1 is: This is a new content!\n",
      "<----------Add another new content to f1---------->\n",
      "<----------Read content from file f1---------->\n",
      "The content read from f1 is: This is a new content!This is another new content!\n",
      "<----------Add content to a new file---------->\n",
      "The content read from f3 is: This is a new content add to a file which does not exist!\n"
     ]
    }
   ],
   "source": [
    "# Do a bunch of things.\n",
    "\n",
    "file_system = FileSystem()\n",
    "\n",
    "# list all files and directories under current director: should return an empty list\n",
    "print ('The list of directories and file under current directory is: ' + str(file_system.ls(\"/\")))\n",
    "\n",
    "# make new directories: d1 and d2 under current director\n",
    "print (\"<----------Make two new directories: d1 and d2 under current director---------->\")\n",
    "file_system.mkdir(\"/d1\")\n",
    "file_system.mkdir(\"/d2\")\n",
    "print (\"The list of directories and file under current directory is:\" + str(file_system.ls(\"/\")))\n",
    "\n",
    "# create new directories d1_1, d1_2 and d1_3 under d1\n",
    "print (\"<----------Make three new directories d1_1, d1_2 and d1_3 under d1---------->\")\n",
    "file_system.mkdir(\"/d1/d1_1\")\n",
    "file_system.mkdir(\"/d1/d1_2\")\n",
    "file_system.mkdir(\"/d1/d1_3\")\n",
    "print (\"The list of directories and file under d1 is:\" + str(file_system.ls(\"/d1\")))\n",
    "\n",
    "# create a new file f1 under d1_2\n",
    "print (\"<----------Make a new file f1 under d1_2---------->\")\n",
    "file_system.mkdir(\"/d1/d1_2/f1\")\n",
    "\n",
    "# create a new file f3 under directory /d1/d1_1/d1_1_1 where d1_1_1 is the middle director which does not exist\n",
    "file_system.mkdir(\"/d1/d1_1/d1_1_1/f3\")\n",
    "print (\"The list of directories and file under d1_1 is:\" + str(file_system.ls(\"/d1/d1_1\")))\n",
    "print (\"The list of directories and file under d1_1_1 is:\" + str(file_system.ls(\"/d1/d1_1/d1_1_1\")))\n",
    "\n",
    "# add a text content \"This is a new content!\" to a file which already exists f1\n",
    "print (\"<----------Add new content to f1---------->\")\n",
    "file_system.addContentToFile(\"/d1/d1_2/f1\", \"This is a new content!\")\n",
    "\n",
    "# read the content from f1\n",
    "print (\"<----------Read content from file f1---------->\")\n",
    "print (\"The content read from f1 is: \" + file_system.readContentFromFile(\"/d1/d1_2/f1\"))\n",
    "\n",
    "print (\"<----------Add another new content to f1---------->\")\n",
    "file_system.addContentToFile(\"/d1/d1_2/f1\", \"This is another new content!\")\n",
    "\n",
    "# read the content from f1\n",
    "print (\"<----------Read content from file f1---------->\")\n",
    "print (\"The content read from f1 is: \" + file_system.readContentFromFile(\"/d1/d1_2/f1\"))\n",
    "\n",
    "# add new content to a file which does not exist, e.g.: f3 under d1_2\n",
    "print (\"<----------Add content to a new file---------->\")\n",
    "file_system.addContentToFile(\"/d1/d1_2/f3\", \"This is a new content add to a file which does not exist!\")\n",
    "# read the content from f2\n",
    "print (\"The content read from f3 is: \" + file_system.readContentFromFile(\"/d1/d1_2/f3\"))"
   ]
  }
 ],
 "metadata": {
  "kernelspec": {
   "display_name": "Python 3",
   "language": "python",
   "name": "python3"
  },
  "language_info": {
   "codemirror_mode": {
    "name": "ipython",
    "version": 3
   },
   "file_extension": ".py",
   "mimetype": "text/x-python",
   "name": "python",
   "nbconvert_exporter": "python",
   "pygments_lexer": "ipython3",
   "version": "3.6.5"
  }
 },
 "nbformat": 4,
 "nbformat_minor": 2
}
